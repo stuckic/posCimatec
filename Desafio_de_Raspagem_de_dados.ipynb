{
  "nbformat": 4,
  "nbformat_minor": 0,
  "metadata": {
    "colab": {
      "provenance": [],
      "authorship_tag": "ABX9TyO0CsVdRSHw29iKAFz+YAqK",
      "include_colab_link": true
    },
    "kernelspec": {
      "name": "python3",
      "display_name": "Python 3"
    },
    "language_info": {
      "name": "python"
    }
  },
  "cells": [
    {
      "cell_type": "markdown",
      "metadata": {
        "id": "view-in-github",
        "colab_type": "text"
      },
      "source": [
        "<a href=\"https://colab.research.google.com/github/stuckic/posCimatec/blob/main/Desafio_de_Raspagem_de_dados.ipynb\" target=\"_parent\"><img src=\"https://colab.research.google.com/assets/colab-badge.svg\" alt=\"Open In Colab\"/></a>"
      ]
    },
    {
      "cell_type": "code",
      "execution_count": null,
      "metadata": {
        "colab": {
          "base_uri": "https://localhost:8080/"
        },
        "id": "USOU669oCRlJ",
        "outputId": "49decc84-1774-4791-88dc-527b17686532"
      },
      "outputs": [
        {
          "output_type": "stream",
          "name": "stdout",
          "text": [
            "imdb_movies.csv  sample_data\n"
          ]
        }
      ],
      "source": [
        "from bs4 import BeautifulSoup\n",
        "import requests\n",
        "import csv\n",
        "\n",
        "# carregando a página web\n",
        "page = requests.get(\"https://m.imdb.com/search/title/?title_type=feature&release_date=2022-07-01,2022-12-31&count=250\")\n",
        "\n",
        "\n",
        "# criando um objeto BeautifulSoup com o conteúdo HTML\n",
        "soup = BeautifulSoup(page.content, 'html.parser')\n",
        "\n",
        "print(soup.prettify())\n",
        "\n",
        "#como os filmes estão dentro de um div na classe lister-item-content o objeto\n",
        "#soup varre o html e armazena numa lista\n",
        "movies = soup.find_all('div', class_='lister-item-content')\n",
        "data = []\n",
        "for movie in movies:\n",
        "    title = movie.find('h3', class_='lister-item-header').a.text\n",
        "    year = movie.find('span', class_='lister-item-year').text\n",
        "\n",
        "    certificate = movie.find('span', class_='certificate').text if movie.find('span', class_='certificate') else ''\n",
        "\n",
        "    runtime = movie.find('span', class_='runtime').text if movie.find('span', class_='runtime') else ''\n",
        "\n",
        "    #tem criar uma lista de categorias pq um filme pode ter mais de uma categoria.\n",
        "    categories = [category.strip() for category in movie.find('span', class_='genre').text.split(',')]\n",
        "\n",
        "    rating = movie.find('div', class_='ratings-bar').strong.text if movie.find('div', class_='ratings-bar') else ''\n",
        "\n",
        "    metascore = movie.find('div', class_='ratings-metascore').span.text.strip() if movie.find('div', class_='ratings-metascore') else ''\n",
        "    ## recebe o sumário mais se a lista de elemento p foi menor que 2 elementos recebe vazio \" \"\n",
        "    summary = movie.find_all('p')[1].text.strip() if len(movie.find_all('p')) > 1 else ''\n",
        "\n",
        "    votes = movie.find('span', attrs={'name': 'nv'})['data-value'] if movie.find('span', attrs={'name': 'nv'}) else ''\n",
        "\n",
        "    gross = movie.find_all('span', attrs={'name': 'nv'})[-1]['data-value'] if len(movie.find_all('span', attrs={'name': 'nv'})) > 1 else ''\n",
        "\n",
        "    print(title, year, certificate, runtime, categories, rating, metascore, summary, votes, gross)\n",
        "\n",
        "\n",
        "    movie_data = [title, year, certificate, runtime ,categories, rating, metascore, summary, votes, gross]\n",
        "    data.append(movie_data)\n",
        "\n",
        "headers = ['Title', 'Year', 'Certificate', 'Duration', 'Categories', 'Rating', 'Metascore', 'Summary', 'Votes', 'Gross']\n",
        "filename = 'imdb_movies.csv'\n",
        "\n",
        "with open(filename, mode='w', newline='', encoding='utf-8') as f:\n",
        "    writer = csv.writer(f)\n",
        "    writer.writerow(headers)\n",
        "    writer.writerows(data)\n",
        "\n",
        "!ls\n"
      ]
    }
  ]
}