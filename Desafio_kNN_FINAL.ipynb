{
  "nbformat": 4,
  "nbformat_minor": 0,
  "metadata": {
    "colab": {
      "provenance": [],
      "include_colab_link": true
    },
    "kernelspec": {
      "name": "python3",
      "display_name": "Python 3"
    }
  },
  "cells": [
    {
      "cell_type": "markdown",
      "metadata": {
        "id": "view-in-github",
        "colab_type": "text"
      },
      "source": [
        "<a href=\"https://colab.research.google.com/github/stuckic/posCimatec/blob/main/Desafio_kNN_FINAL.ipynb\" target=\"_parent\"><img src=\"https://colab.research.google.com/assets/colab-badge.svg\" alt=\"Open In Colab\"/></a>"
      ]
    },
    {
      "cell_type": "markdown",
      "metadata": {
        "id": "lknp4_p9qTL5"
      },
      "source": [
        "#Desafio: implementar o algoritmo de classificação kNN"
      ]
    },
    {
      "cell_type": "markdown",
      "metadata": {
        "id": "F1Zf3H5JyVE_"
      },
      "source": [
        "## Desafio"
      ]
    },
    {
      "cell_type": "markdown",
      "source": [
        "##Compontentes\n",
        "## Carlos Bastos Stucki\n",
        "## Juliana Del Rei Fraga Rappel\n",
        "## Reinaldo Goes de Souza"
      ],
      "metadata": {
        "id": "78LoLDSgXIeO"
      }
    },
    {
      "cell_type": "markdown",
      "source": [
        "## Para teste efetivo é necessário executar os Blocos na Sequencia (1, 2, 3, 4)"
      ],
      "metadata": {
        "id": "aHd_kKMUuxLq"
      }
    },
    {
      "cell_type": "code",
      "metadata": {
        "id": "40pLZXSCD3PK"
      },
      "source": [
        "#Carregamentos do Dataset e das matrizes de instância e rótulo estão no mesmo bloco abaixo"
      ],
      "execution_count": null,
      "outputs": []
    },
    {
      "cell_type": "markdown",
      "source": [
        "##Bloco 1 - Executar a Função - 'dividir_treino_teste'"
      ],
      "metadata": {
        "id": "iEM-6jdouS0T"
      }
    },
    {
      "cell_type": "code",
      "metadata": {
        "id": "JmexwuBcEQMl"
      },
      "source": [
        "\n",
        "\n",
        "\n",
        "def dividir_treino_teste(M_Inst, M_Rotulo, perc_treino):\n",
        "    # Seta o Seed\n",
        "    np.random.seed(42)\n",
        "\n",
        "    # Embaralha\n",
        "    indices = np.random.permutation(len(M_Inst))\n",
        "    M_inst_embaralhado = M_Inst[indices]\n",
        "    M_Rotulo_embaralhado = M_Rotulo[indices]\n",
        "\n",
        "    # Calcula o número de instâncias do conjunto de treinamento\n",
        "    n_treino = int(perc_treino * M_Inst.shape[0]) #X.shape retornar o\n",
        "                                              #numero de linhas da matriz\n",
        "\n",
        "    # Divide a base em conjuntos de treinamento e teste\n",
        "    x_treino, y_treino = M_inst_embaralhado[:n_treino], M_Rotulo_embaralhado[:n_treino]\n",
        "    x_teste, y_teste = M_inst_embaralhado[n_treino:], M_Rotulo_embaralhado[n_treino:]\n",
        "\n",
        "    return x_treino, y_treino, x_teste, y_teste\n",
        "\n",
        "\n",
        "\n",
        "\n"
      ],
      "execution_count": null,
      "outputs": []
    },
    {
      "cell_type": "markdown",
      "source": [
        "## Bloco 2 - Executar Classe KNN"
      ],
      "metadata": {
        "id": "5oBmIEGaucga"
      }
    },
    {
      "cell_type": "code",
      "metadata": {
        "id": "z7FZrIxaEZ3t"
      },
      "source": [
        "# Insira aqui o código da classe kNN\n",
        "\n",
        "class KNN:\n",
        "    def __init__(self, k):\n",
        "        self.k = k\n",
        "\n",
        "    def fit(self, X_treino, y_treino):\n",
        "        self.X_train = X_treino\n",
        "        self.y_train = y_treino\n",
        "\n",
        "    def predict(self, X_teste):\n",
        "        classe_preditas = []\n",
        "        for x in X_teste:\n",
        "            distancias = np.sqrt(np.sum((x - self.X_train)**2, axis=1)) #Calculo da Distância Euclediana\n",
        "            indices = np.argsort(distancias)[:self.k] # Ordena do usando numpy o vertor de ditância e buscar os k vizinhos\n",
        "            k_nearest_classes = self.y_train[indices]\n",
        "            classe_mais_frequente = np.bincount(k_nearest_classes)\n",
        "            classe_preditas.append(np.argmax(classe_mais_frequente))\n",
        "        return np.array(classe_preditas)\n",
        "        # Precisei converter pq na função\n",
        "        #acurácia é necessário comparar e List e ndArray são tipos diferentes.\n"
      ],
      "execution_count": null,
      "outputs": []
    },
    {
      "cell_type": "markdown",
      "source": [
        "##Bloco 3 - Executar a função acurácia"
      ],
      "metadata": {
        "id": "Y1ZBy_Seuh-U"
      }
    },
    {
      "cell_type": "code",
      "metadata": {
        "id": "vJ3hZN52Ede2"
      },
      "source": [
        "# Insira aqui o código da função acurácia\n",
        "\n",
        "def acuracia(y_predict, y_teste_real):\n",
        "\n",
        "    assert y_predict.shape == y_teste_real.shape\n",
        "    #\"Os vetores de classes devem ter o mesmo tamanho\"\n",
        "    #assert é uma expressão boolena e compara os vetores e verificar se\n",
        "    #tem o mesmo tamanhao e caso contrário lança um exceção\n",
        "    acertos = np.sum(y_predict == y_teste_real)\n",
        "    total = y_predict.shape[0]\n",
        "\n",
        "    taxa_acertos = acertos / total\n",
        "\n",
        "    return taxa_acertos\n"
      ],
      "execution_count": null,
      "outputs": []
    },
    {
      "cell_type": "markdown",
      "metadata": {
        "id": "tjo9WRpIEm_O"
      },
      "source": [
        "## Agora teste seu algoritmo\n",
        "\n",
        "Utilize as funções e a classe criada para dividir o dataset iris em conjuntos de treino e teste com a proporção 80/20, classifique o conjunto de testes e verifique a acurácia obtida. Considere k = 5."
      ]
    },
    {
      "cell_type": "markdown",
      "source": [
        "## Bloco 4 - Teste de Execução"
      ],
      "metadata": {
        "id": "Z6XJQFdfunyq"
      }
    },
    {
      "cell_type": "code",
      "metadata": {
        "id": "oMPVcq4dfFmY",
        "colab": {
          "base_uri": "https://localhost:8080/"
        },
        "outputId": "bd074b7c-11df-457a-9fba-5b4d343b0734"
      },
      "source": [
        "# Obtendo o dataset iris\n",
        "\n",
        "import numpy as np\n",
        "\n",
        "from sklearn import datasets\n",
        "from sklearn.model_selection import train_test_split\n",
        "\n",
        "iris = datasets.load_iris()\n",
        "\n",
        "\n",
        "Mat_Int = np.array(iris.data) # matriz de instâncias\n",
        "Vet_Rotulos = np.array(iris.target) # vetor de rótulos\n",
        "\n",
        "print(Mat_Int.shape) #Confirmando os tamanhos\n",
        "print(Vet_Rotulos.shape)\n",
        "\n",
        "x_treino2, y_treino2, x_teste2, y_teste2 = dividir_treino_teste(Mat_Int, Vet_Rotulos, 0.2)\n",
        "\n",
        "knn = KNN(5)\n",
        "knn.fit(x_treino2,y_treino2)\n",
        "classe_predict = knn.predict(x_teste2)\n",
        "\n",
        "acuracia_result = acuracia(classe_predict, y_teste2)\n",
        "print(f\"A Acurácia é {acuracia_result}\")"
      ],
      "execution_count": null,
      "outputs": [
        {
          "output_type": "stream",
          "name": "stdout",
          "text": [
            "(150, 4)\n",
            "(150,)\n",
            "A Acurácia é 0.9166666666666666\n"
          ]
        }
      ]
    },
    {
      "cell_type": "markdown",
      "metadata": {
        "id": "GqpzpjalFSKl"
      },
      "source": [
        "### Modelo de comparação\n",
        "\n",
        "Segue abaixo o código para utilizar a classe kNN do pacote sklearn. Após finalizar o desafio, você pode executar o código abaixo e verificar se o resultado que você obteve de acurácia bate com o que era esperado. Lembre-se que o kNN não utiliza aleatoriedade em seu processo de classificação, assim sendo, para uma mesma medida de distância, mesmo número de vizinhos e mesmos conjuntos de treinamento e teste, o resultado sempre será o mesmo."
      ]
    },
    {
      "cell_type": "code",
      "metadata": {
        "id": "DyUy9D_5GHjM",
        "colab": {
          "base_uri": "https://localhost:8080/"
        },
        "outputId": "945bba2c-3fbd-4aea-f0f8-9c01147088cb"
      },
      "source": [
        "# Este código só vai funcionar se o seu método de acuracia e os arrays x_treino,\n",
        "# x_teste, y_treino, y_teste e a sua funcao acuracia estiverem carregados em memoria.\n",
        "\n",
        "from sklearn.neighbors import KNeighborsClassifier\n",
        "\n",
        "neigh = KNeighborsClassifier(n_neighbors=5)\n",
        "neigh.fit(x_treino2, y_treino2)\n",
        "predicoes = neigh.predict(x_teste2)\n",
        "\n",
        "acuracia(predicoes, y_teste2)"
      ],
      "execution_count": null,
      "outputs": [
        {
          "output_type": "execute_result",
          "data": {
            "text/plain": [
              "0.9166666666666666"
            ]
          },
          "metadata": {},
          "execution_count": 9
        }
      ]
    }
  ]
}